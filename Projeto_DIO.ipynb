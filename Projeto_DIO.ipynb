{
  "nbformat": 4,
  "nbformat_minor": 0,
  "metadata": {
    "colab": {
      "name": "Projeto_DIO",
      "provenance": [],
      "collapsed_sections": [],
      "authorship_tag": "ABX9TyNHF/F5J2/edgn4rM7I0qKt",
      "include_colab_link": true
    },
    "kernelspec": {
      "name": "python3",
      "display_name": "Python 3"
    },
    "language_info": {
      "name": "python"
    }
  },
  "cells": [
    {
      "cell_type": "markdown",
      "metadata": {
        "id": "view-in-github",
        "colab_type": "text"
      },
      "source": [
        "<a href=\"https://colab.research.google.com/github/claudiopiva/Bootcamp-Carrefour/blob/main/Projeto_DIO.ipynb\" target=\"_parent\"><img src=\"https://colab.research.google.com/assets/colab-badge.svg\" alt=\"Open In Colab\"/></a>"
      ]
    },
    {
      "cell_type": "code",
      "metadata": {
        "id": "3T4YZzOpLHdb"
      },
      "source": [
        "import pandas as pd  #bibioteca de tratamento de dados\n",
        "import numpy as np #biblioteca de tratamento de dados numéricos\n",
        "import datetime  #biblioteca de datas"
      ],
      "execution_count": 1,
      "outputs": []
    },
    {
      "cell_type": "code",
      "metadata": {
        "id": "tQ1f8OBGLjmE"
      },
      "source": [
        "#carregando os dados\n",
        "df=pd.read_csv('KaggleV2-May-2016.csv')"
      ],
      "execution_count": 2,
      "outputs": []
    },
    {
      "cell_type": "code",
      "metadata": {
        "colab": {
          "base_uri": "https://localhost:8080/",
          "height": 566
        },
        "id": "6_E4AvLDLtcr",
        "outputId": "4faa8950-4bd0-4f44-faf8-8f6aa7adf18b"
      },
      "source": [
        "#consultando o dataset\n",
        "df.head(10)"
      ],
      "execution_count": 4,
      "outputs": [
        {
          "output_type": "execute_result",
          "data": {
            "text/html": [
              "<div>\n",
              "<style scoped>\n",
              "    .dataframe tbody tr th:only-of-type {\n",
              "        vertical-align: middle;\n",
              "    }\n",
              "\n",
              "    .dataframe tbody tr th {\n",
              "        vertical-align: top;\n",
              "    }\n",
              "\n",
              "    .dataframe thead th {\n",
              "        text-align: right;\n",
              "    }\n",
              "</style>\n",
              "<table border=\"1\" class=\"dataframe\">\n",
              "  <thead>\n",
              "    <tr style=\"text-align: right;\">\n",
              "      <th></th>\n",
              "      <th>PatientId</th>\n",
              "      <th>AppointmentID</th>\n",
              "      <th>Gender</th>\n",
              "      <th>ScheduledDay</th>\n",
              "      <th>AppointmentDay</th>\n",
              "      <th>Age</th>\n",
              "      <th>Neighbourhood</th>\n",
              "      <th>Scholarship</th>\n",
              "      <th>Hipertension</th>\n",
              "      <th>Diabetes</th>\n",
              "      <th>Alcoholism</th>\n",
              "      <th>Handcap</th>\n",
              "      <th>SMS_received</th>\n",
              "      <th>No-show</th>\n",
              "    </tr>\n",
              "  </thead>\n",
              "  <tbody>\n",
              "    <tr>\n",
              "      <th>0</th>\n",
              "      <td>2.987250e+13</td>\n",
              "      <td>5642903</td>\n",
              "      <td>F</td>\n",
              "      <td>2016-04-29T18:38:08Z</td>\n",
              "      <td>2016-04-29T00:00:00Z</td>\n",
              "      <td>62</td>\n",
              "      <td>JARDIM DA PENHA</td>\n",
              "      <td>0</td>\n",
              "      <td>1</td>\n",
              "      <td>0</td>\n",
              "      <td>0</td>\n",
              "      <td>0.0</td>\n",
              "      <td>0.0</td>\n",
              "      <td>No</td>\n",
              "    </tr>\n",
              "    <tr>\n",
              "      <th>1</th>\n",
              "      <td>5.589978e+14</td>\n",
              "      <td>5642503</td>\n",
              "      <td>M</td>\n",
              "      <td>2016-04-29T16:08:27Z</td>\n",
              "      <td>2016-04-29T00:00:00Z</td>\n",
              "      <td>56</td>\n",
              "      <td>JARDIM DA PENHA</td>\n",
              "      <td>0</td>\n",
              "      <td>0</td>\n",
              "      <td>0</td>\n",
              "      <td>0</td>\n",
              "      <td>0.0</td>\n",
              "      <td>0.0</td>\n",
              "      <td>No</td>\n",
              "    </tr>\n",
              "    <tr>\n",
              "      <th>2</th>\n",
              "      <td>4.262962e+12</td>\n",
              "      <td>5642549</td>\n",
              "      <td>F</td>\n",
              "      <td>2016-04-29T16:19:04Z</td>\n",
              "      <td>2016-04-29T00:00:00Z</td>\n",
              "      <td>62</td>\n",
              "      <td>MATA DA PRAIA</td>\n",
              "      <td>0</td>\n",
              "      <td>0</td>\n",
              "      <td>0</td>\n",
              "      <td>0</td>\n",
              "      <td>0.0</td>\n",
              "      <td>0.0</td>\n",
              "      <td>No</td>\n",
              "    </tr>\n",
              "    <tr>\n",
              "      <th>3</th>\n",
              "      <td>8.679512e+11</td>\n",
              "      <td>5642828</td>\n",
              "      <td>F</td>\n",
              "      <td>2016-04-29T17:29:31Z</td>\n",
              "      <td>2016-04-29T00:00:00Z</td>\n",
              "      <td>8</td>\n",
              "      <td>PONTAL DE CAMBURI</td>\n",
              "      <td>0</td>\n",
              "      <td>0</td>\n",
              "      <td>0</td>\n",
              "      <td>0</td>\n",
              "      <td>0.0</td>\n",
              "      <td>0.0</td>\n",
              "      <td>No</td>\n",
              "    </tr>\n",
              "    <tr>\n",
              "      <th>4</th>\n",
              "      <td>8.841186e+12</td>\n",
              "      <td>5642494</td>\n",
              "      <td>F</td>\n",
              "      <td>2016-04-29T16:07:23Z</td>\n",
              "      <td>2016-04-29T00:00:00Z</td>\n",
              "      <td>56</td>\n",
              "      <td>JARDIM DA PENHA</td>\n",
              "      <td>0</td>\n",
              "      <td>1</td>\n",
              "      <td>1</td>\n",
              "      <td>0</td>\n",
              "      <td>0.0</td>\n",
              "      <td>0.0</td>\n",
              "      <td>No</td>\n",
              "    </tr>\n",
              "    <tr>\n",
              "      <th>5</th>\n",
              "      <td>9.598513e+13</td>\n",
              "      <td>5626772</td>\n",
              "      <td>F</td>\n",
              "      <td>2016-04-27T08:36:51Z</td>\n",
              "      <td>2016-04-29T00:00:00Z</td>\n",
              "      <td>76</td>\n",
              "      <td>REPÚBLICA</td>\n",
              "      <td>0</td>\n",
              "      <td>1</td>\n",
              "      <td>0</td>\n",
              "      <td>0</td>\n",
              "      <td>0.0</td>\n",
              "      <td>0.0</td>\n",
              "      <td>No</td>\n",
              "    </tr>\n",
              "    <tr>\n",
              "      <th>6</th>\n",
              "      <td>7.336882e+14</td>\n",
              "      <td>5630279</td>\n",
              "      <td>F</td>\n",
              "      <td>2016-04-27T15:05:12Z</td>\n",
              "      <td>2016-04-29T00:00:00Z</td>\n",
              "      <td>23</td>\n",
              "      <td>GOIABEIRAS</td>\n",
              "      <td>0</td>\n",
              "      <td>0</td>\n",
              "      <td>0</td>\n",
              "      <td>0</td>\n",
              "      <td>0.0</td>\n",
              "      <td>0.0</td>\n",
              "      <td>Yes</td>\n",
              "    </tr>\n",
              "    <tr>\n",
              "      <th>7</th>\n",
              "      <td>3.449833e+12</td>\n",
              "      <td>5630575</td>\n",
              "      <td>F</td>\n",
              "      <td>2016-04-27T15:39:58Z</td>\n",
              "      <td>2016-04-29T00:00:00Z</td>\n",
              "      <td>39</td>\n",
              "      <td>GOIABEIRAS</td>\n",
              "      <td>0</td>\n",
              "      <td>0</td>\n",
              "      <td>0</td>\n",
              "      <td>0</td>\n",
              "      <td>0.0</td>\n",
              "      <td>0.0</td>\n",
              "      <td>Yes</td>\n",
              "    </tr>\n",
              "    <tr>\n",
              "      <th>8</th>\n",
              "      <td>5.639473e+13</td>\n",
              "      <td>5638447</td>\n",
              "      <td>F</td>\n",
              "      <td>2016-04-29T08:02:16Z</td>\n",
              "      <td>2016-04-29T00:00:00Z</td>\n",
              "      <td>21</td>\n",
              "      <td>ANDORINHAS</td>\n",
              "      <td>0</td>\n",
              "      <td>0</td>\n",
              "      <td>0</td>\n",
              "      <td>0</td>\n",
              "      <td>0.0</td>\n",
              "      <td>0.0</td>\n",
              "      <td>No</td>\n",
              "    </tr>\n",
              "    <tr>\n",
              "      <th>9</th>\n",
              "      <td>7.812456e+13</td>\n",
              "      <td>5629123</td>\n",
              "      <td>F</td>\n",
              "      <td>2016-04-27T12:48:25Z</td>\n",
              "      <td>2016-04-29T00:00:00Z</td>\n",
              "      <td>19</td>\n",
              "      <td>CONQUISTA</td>\n",
              "      <td>0</td>\n",
              "      <td>0</td>\n",
              "      <td>0</td>\n",
              "      <td>0</td>\n",
              "      <td>0.0</td>\n",
              "      <td>0.0</td>\n",
              "      <td>No</td>\n",
              "    </tr>\n",
              "  </tbody>\n",
              "</table>\n",
              "</div>"
            ],
            "text/plain": [
              "      PatientId  AppointmentID Gender  ... Handcap SMS_received  No-show\n",
              "0  2.987250e+13        5642903      F  ...     0.0          0.0       No\n",
              "1  5.589978e+14        5642503      M  ...     0.0          0.0       No\n",
              "2  4.262962e+12        5642549      F  ...     0.0          0.0       No\n",
              "3  8.679512e+11        5642828      F  ...     0.0          0.0       No\n",
              "4  8.841186e+12        5642494      F  ...     0.0          0.0       No\n",
              "5  9.598513e+13        5626772      F  ...     0.0          0.0       No\n",
              "6  7.336882e+14        5630279      F  ...     0.0          0.0      Yes\n",
              "7  3.449833e+12        5630575      F  ...     0.0          0.0      Yes\n",
              "8  5.639473e+13        5638447      F  ...     0.0          0.0       No\n",
              "9  7.812456e+13        5629123      F  ...     0.0          0.0       No\n",
              "\n",
              "[10 rows x 14 columns]"
            ]
          },
          "metadata": {},
          "execution_count": 4
        }
      ]
    },
    {
      "cell_type": "code",
      "metadata": {
        "colab": {
          "base_uri": "https://localhost:8080/"
        },
        "id": "wmv8vSTwL6Tm",
        "outputId": "bbea55b4-4d2f-4a21-86f6-50b7ac8bfb6b"
      },
      "source": [
        "#consultando as dimensões \n",
        "df.shape"
      ],
      "execution_count": 5,
      "outputs": [
        {
          "output_type": "execute_result",
          "data": {
            "text/plain": [
              "(86328, 14)"
            ]
          },
          "metadata": {},
          "execution_count": 5
        }
      ]
    },
    {
      "cell_type": "code",
      "metadata": {
        "colab": {
          "base_uri": "https://localhost:8080/"
        },
        "id": "tNbrmrm1MDlt",
        "outputId": "96ed43de-1529-44ef-f884-bd6c7ea52844"
      },
      "source": [
        "#consultando as informações\n",
        "df.info()"
      ],
      "execution_count": 6,
      "outputs": [
        {
          "output_type": "stream",
          "text": [
            "<class 'pandas.core.frame.DataFrame'>\n",
            "RangeIndex: 86328 entries, 0 to 86327\n",
            "Data columns (total 14 columns):\n",
            " #   Column          Non-Null Count  Dtype  \n",
            "---  ------          --------------  -----  \n",
            " 0   PatientId       86328 non-null  float64\n",
            " 1   AppointmentID   86328 non-null  int64  \n",
            " 2   Gender          86328 non-null  object \n",
            " 3   ScheduledDay    86328 non-null  object \n",
            " 4   AppointmentDay  86328 non-null  object \n",
            " 5   Age             86328 non-null  int64  \n",
            " 6   Neighbourhood   86328 non-null  object \n",
            " 7   Scholarship     86328 non-null  int64  \n",
            " 8   Hipertension    86328 non-null  int64  \n",
            " 9   Diabetes        86328 non-null  int64  \n",
            " 10  Alcoholism      86328 non-null  int64  \n",
            " 11  Handcap         86327 non-null  float64\n",
            " 12  SMS_received    86327 non-null  float64\n",
            " 13  No-show         86327 non-null  object \n",
            "dtypes: float64(3), int64(6), object(5)\n",
            "memory usage: 9.2+ MB\n"
          ],
          "name": "stdout"
        }
      ]
    },
    {
      "cell_type": "code",
      "metadata": {
        "colab": {
          "base_uri": "https://localhost:8080/"
        },
        "id": "M9JRMQPFMcpy",
        "outputId": "f1b5bc75-0a47-42a8-c1ef-c45351e492fe"
      },
      "source": [
        "#Consultando valores nulos de comparecimento\n",
        "# Yes: paciente não compareceu / No: paciente compareceu\n",
        "df['No-show'].value_counts()"
      ],
      "execution_count": 9,
      "outputs": [
        {
          "output_type": "execute_result",
          "data": {
            "text/plain": [
              "No     68509\n",
              "Yes    17818\n",
              "Name: No-show, dtype: int64"
            ]
          },
          "metadata": {},
          "execution_count": 9
        }
      ]
    },
    {
      "cell_type": "code",
      "metadata": {
        "colab": {
          "base_uri": "https://localhost:8080/"
        },
        "id": "w6s3UEqyMyrC",
        "outputId": "f03a725a-a745-4ddb-b7f5-f715898aebc6"
      },
      "source": [
        "#Consultando valores nulos de recebimento de mensagem\n",
        "# 0: paciente não reccebeu / 1: paciente recebeu\n",
        "df['SMS_received'].value_counts() "
      ],
      "execution_count": 10,
      "outputs": [
        {
          "output_type": "execute_result",
          "data": {
            "text/plain": [
              "0.0    61286\n",
              "1.0    25041\n",
              "Name: SMS_received, dtype: int64"
            ]
          },
          "metadata": {},
          "execution_count": 10
        }
      ]
    },
    {
      "cell_type": "code",
      "metadata": {
        "colab": {
          "base_uri": "https://localhost:8080/",
          "height": 317
        },
        "id": "Tx_T1iyFNEk8",
        "outputId": "a31a8b9a-8702-48b4-f721-36cc7f5ef84f"
      },
      "source": [
        "#consultando os dados estatisticos\n",
        "df.describe()"
      ],
      "execution_count": 11,
      "outputs": [
        {
          "output_type": "execute_result",
          "data": {
            "text/html": [
              "<div>\n",
              "<style scoped>\n",
              "    .dataframe tbody tr th:only-of-type {\n",
              "        vertical-align: middle;\n",
              "    }\n",
              "\n",
              "    .dataframe tbody tr th {\n",
              "        vertical-align: top;\n",
              "    }\n",
              "\n",
              "    .dataframe thead th {\n",
              "        text-align: right;\n",
              "    }\n",
              "</style>\n",
              "<table border=\"1\" class=\"dataframe\">\n",
              "  <thead>\n",
              "    <tr style=\"text-align: right;\">\n",
              "      <th></th>\n",
              "      <th>PatientId</th>\n",
              "      <th>AppointmentID</th>\n",
              "      <th>Age</th>\n",
              "      <th>Scholarship</th>\n",
              "      <th>Hipertension</th>\n",
              "      <th>Diabetes</th>\n",
              "      <th>Alcoholism</th>\n",
              "      <th>Handcap</th>\n",
              "      <th>SMS_received</th>\n",
              "    </tr>\n",
              "  </thead>\n",
              "  <tbody>\n",
              "    <tr>\n",
              "      <th>count</th>\n",
              "      <td>8.632800e+04</td>\n",
              "      <td>8.632800e+04</td>\n",
              "      <td>86328.000000</td>\n",
              "      <td>86328.000000</td>\n",
              "      <td>86328.000000</td>\n",
              "      <td>86328.000000</td>\n",
              "      <td>86328.000000</td>\n",
              "      <td>86327.000000</td>\n",
              "      <td>86327.000000</td>\n",
              "    </tr>\n",
              "    <tr>\n",
              "      <th>mean</th>\n",
              "      <td>1.473685e+14</td>\n",
              "      <td>5.658643e+06</td>\n",
              "      <td>37.019310</td>\n",
              "      <td>0.098103</td>\n",
              "      <td>0.196333</td>\n",
              "      <td>0.071101</td>\n",
              "      <td>0.029735</td>\n",
              "      <td>0.022218</td>\n",
              "      <td>0.290071</td>\n",
              "    </tr>\n",
              "    <tr>\n",
              "      <th>std</th>\n",
              "      <td>2.560971e+14</td>\n",
              "      <td>6.563029e+04</td>\n",
              "      <td>23.102883</td>\n",
              "      <td>0.297455</td>\n",
              "      <td>0.397225</td>\n",
              "      <td>0.256995</td>\n",
              "      <td>0.169857</td>\n",
              "      <td>0.160702</td>\n",
              "      <td>0.453798</td>\n",
              "    </tr>\n",
              "    <tr>\n",
              "      <th>min</th>\n",
              "      <td>9.377953e+04</td>\n",
              "      <td>5.030230e+06</td>\n",
              "      <td>0.000000</td>\n",
              "      <td>0.000000</td>\n",
              "      <td>0.000000</td>\n",
              "      <td>0.000000</td>\n",
              "      <td>0.000000</td>\n",
              "      <td>0.000000</td>\n",
              "      <td>0.000000</td>\n",
              "    </tr>\n",
              "    <tr>\n",
              "      <th>25%</th>\n",
              "      <td>4.196774e+12</td>\n",
              "      <td>5.631746e+06</td>\n",
              "      <td>18.000000</td>\n",
              "      <td>0.000000</td>\n",
              "      <td>0.000000</td>\n",
              "      <td>0.000000</td>\n",
              "      <td>0.000000</td>\n",
              "      <td>0.000000</td>\n",
              "      <td>0.000000</td>\n",
              "    </tr>\n",
              "    <tr>\n",
              "      <th>50%</th>\n",
              "      <td>3.161595e+13</td>\n",
              "      <td>5.667090e+06</td>\n",
              "      <td>37.000000</td>\n",
              "      <td>0.000000</td>\n",
              "      <td>0.000000</td>\n",
              "      <td>0.000000</td>\n",
              "      <td>0.000000</td>\n",
              "      <td>0.000000</td>\n",
              "      <td>0.000000</td>\n",
              "    </tr>\n",
              "    <tr>\n",
              "      <th>75%</th>\n",
              "      <td>9.446672e+13</td>\n",
              "      <td>5.702700e+06</td>\n",
              "      <td>55.000000</td>\n",
              "      <td>0.000000</td>\n",
              "      <td>0.000000</td>\n",
              "      <td>0.000000</td>\n",
              "      <td>0.000000</td>\n",
              "      <td>0.000000</td>\n",
              "      <td>1.000000</td>\n",
              "    </tr>\n",
              "    <tr>\n",
              "      <th>max</th>\n",
              "      <td>9.999816e+14</td>\n",
              "      <td>5.790452e+06</td>\n",
              "      <td>115.000000</td>\n",
              "      <td>1.000000</td>\n",
              "      <td>1.000000</td>\n",
              "      <td>1.000000</td>\n",
              "      <td>1.000000</td>\n",
              "      <td>3.000000</td>\n",
              "      <td>1.000000</td>\n",
              "    </tr>\n",
              "  </tbody>\n",
              "</table>\n",
              "</div>"
            ],
            "text/plain": [
              "          PatientId  AppointmentID  ...       Handcap  SMS_received\n",
              "count  8.632800e+04   8.632800e+04  ...  86327.000000  86327.000000\n",
              "mean   1.473685e+14   5.658643e+06  ...      0.022218      0.290071\n",
              "std    2.560971e+14   6.563029e+04  ...      0.160702      0.453798\n",
              "min    9.377953e+04   5.030230e+06  ...      0.000000      0.000000\n",
              "25%    4.196774e+12   5.631746e+06  ...      0.000000      0.000000\n",
              "50%    3.161595e+13   5.667090e+06  ...      0.000000      0.000000\n",
              "75%    9.446672e+13   5.702700e+06  ...      0.000000      1.000000\n",
              "max    9.999816e+14   5.790452e+06  ...      3.000000      1.000000\n",
              "\n",
              "[8 rows x 9 columns]"
            ]
          },
          "metadata": {},
          "execution_count": 11
        }
      ]
    },
    {
      "cell_type": "code",
      "metadata": {
        "colab": {
          "base_uri": "https://localhost:8080/"
        },
        "id": "bwR1E6C_NOwY",
        "outputId": "c465c286-68c8-461c-8f48-f424c77f1f10"
      },
      "source": [
        "#contando a quantidade de valores distintos em cada uma das colunas\n",
        "for colunas in list(df.columns):\n",
        "  print( \"{0:25} {1}\".format(colunas, df[colunas].nunique()) )"
      ],
      "execution_count": 12,
      "outputs": [
        {
          "output_type": "stream",
          "text": [
            "PatientId                 52957\n",
            "AppointmentID             86328\n",
            "Gender                    2\n",
            "ScheduledDay              81290\n",
            "AppointmentDay            27\n",
            "Age                       102\n",
            "Neighbourhood             81\n",
            "Scholarship               2\n",
            "Hipertension              2\n",
            "Diabetes                  2\n",
            "Alcoholism                2\n",
            "Handcap                   4\n",
            "SMS_received              2\n",
            "No-show                   2\n"
          ],
          "name": "stdout"
        }
      ]
    },
    {
      "cell_type": "code",
      "metadata": {
        "id": "6fRmbK13NbBX"
      },
      "source": [
        "from matplotlib import pyplot as plt  #plotar os gráficos\n",
        "import seaborn as sns #plot de gráficos"
      ],
      "execution_count": 13,
      "outputs": []
    },
    {
      "cell_type": "code",
      "metadata": {
        "colab": {
          "base_uri": "https://localhost:8080/",
          "height": 282
        },
        "id": "iGxV6FGXNhF2",
        "outputId": "9548bd76-4792-4cd6-bd3a-c62006c00002"
      },
      "source": [
        "#plotando o histograma da Idade \n",
        "df['Age'].hist(bins=len(df['Age'].unique()))"
      ],
      "execution_count": 14,
      "outputs": [
        {
          "output_type": "execute_result",
          "data": {
            "text/plain": [
              "<matplotlib.axes._subplots.AxesSubplot at 0x7f0fc35a5a10>"
            ]
          },
          "metadata": {},
          "execution_count": 14
        },
        {
          "output_type": "display_data",
          "data": {
            "image/png": "[encoded data removed]",
            "text/plain": [
              "<Figure size 432x288 with 1 Axes>"
            ]
          },
          "metadata": {
            "needs_background": "light"
          }
        }
      ]
    },
    {
      "cell_type": "code",
      "metadata": {
        "colab": {
          "base_uri": "https://localhost:8080/",
          "height": 282
        },
        "id": "cTHzlZ52NqlX",
        "outputId": "2652d2f9-74fa-40be-80e6-205db823ad1d"
      },
      "source": [
        "#plotando o histograma de Recebimento de Mensagem \n",
        "df['SMS_received'].hist(bins=len(df['SMS_received'].unique()))"
      ],
      "execution_count": 16,
      "outputs": [
        {
          "output_type": "execute_result",
          "data": {
            "text/plain": [
              "<matplotlib.axes._subplots.AxesSubplot at 0x7f0fc2ec5650>"
            ]
          },
          "metadata": {},
          "execution_count": 16
        },
        {
          "output_type": "display_data",
          "data": {
            "image/png": "[encoded data removed]",
            "text/plain": [
              "<Figure size 432x288 with 1 Axes>"
            ]
          },
          "metadata": {
            "needs_background": "light"
          }
        }
      ]
    },
    {
      "cell_type": "code",
      "metadata": {
        "colab": {
          "base_uri": "https://localhost:8080/",
          "height": 517
        },
        "id": "FTferdovNwOt",
        "outputId": "a5b91a1d-743a-4d84-def4-2b5cd600a7f7"
      },
      "source": [
        "#plotando o número de consultas por região \n",
        "regioes = df['Neighbourhood'].unique()\n",
        "plt.figure(figsize=(22,10))\n",
        "ax = sns.countplot(x='Neighbourhood', data=df, order=regioes)\n",
        "ax.set_xticklabels(ax.get_xticklabels(), rotation=40, ha=\"right\", fontsize=8)\n",
        "plt.title('Consultas por região', fontsize=14, fontweight='bold')\n",
        "plt.show()"
      ],
      "execution_count": 17,
      "outputs": [
        {
          "output_type": "display_data",
          "data": {
            "image/png": "[encoded data removed]",
            "text/plain": [
              "<Figure size 1584x720 with 1 Axes>"
            ]
          },
          "metadata": {
            "needs_background": "light"
          }
        }
      ]
    },
    {
      "cell_type": "code",
      "metadata": {
        "colab": {
          "base_uri": "https://localhost:8080/",
          "height": 282
        },
        "id": "9_C5hRSrP8Yr",
        "outputId": "2ea6ac51-4d5c-412a-974e-81f9e62aa971"
      },
      "source": [
        "#plotando o histograma de Diabetes\n",
        "df['Diabetes'].hist(bins=len(df['Diabetes'].unique()))"
      ],
      "execution_count": 35,
      "outputs": [
        {
          "output_type": "execute_result",
          "data": {
            "text/plain": [
              "<matplotlib.axes._subplots.AxesSubplot at 0x7f0fbcd35290>"
            ]
          },
          "metadata": {},
          "execution_count": 35
        },
        {
          "output_type": "display_data",
          "data": {
            "image/png": "[encoded data removed]",
            "text/plain": [
              "<Figure size 432x288 with 1 Axes>"
            ]
          },
          "metadata": {
            "needs_background": "light"
          }
        }
      ]
    },
    {
      "cell_type": "code",
      "metadata": {
        "colab": {
          "base_uri": "https://localhost:8080/",
          "height": 282
        },
        "id": "ksTnFPkAQFqu",
        "outputId": "b4b29a5f-beaf-4f97-d6ba-b8a6ebe1f48f"
      },
      "source": [
        "#plotando o histograma de Alcoolismo\n",
        "df['Alcoholism'].hist(bins=len(df['Alcoholism'].unique()))"
      ],
      "execution_count": 36,
      "outputs": [
        {
          "output_type": "execute_result",
          "data": {
            "text/plain": [
              "<matplotlib.axes._subplots.AxesSubplot at 0x7f0fbceea390>"
            ]
          },
          "metadata": {},
          "execution_count": 36
        },
        {
          "output_type": "display_data",
          "data": {
            "image/png": "[encoded data removed]",
            "text/plain": [
              "<Figure size 432x288 with 1 Axes>"
            ]
          },
          "metadata": {
            "needs_background": "light"
          }
        }
      ]
    }
  ]
}